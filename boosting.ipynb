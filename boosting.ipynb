{
 "cells": [
  {
   "cell_type": "markdown",
   "metadata": {},
   "source": [
    "## Gradient Boosting Example\n",
    "This notebook demonstrates a simple gradient boosting function using a one-dimensional spline as the base function. B is 300 for the first example, and 600 for the second."
   ]
  },
  {
   "cell_type": "code",
   "execution_count": 4,
   "metadata": {
    "collapsed": false,
    "scrolled": false
   },
   "outputs": [
    {
     "name": "stdout",
     "output_type": "stream",
     "text": [
      "0: low \n",
      "1: age \n",
      "2: lwt \n",
      "3: race \n",
      "4: smoke \n",
      "5: ptl \n",
      "6: ht \n",
      "7: ui \n",
      "8: ftv \n",
      "9: bwt\n",
      "Enter number for dependent variable: 9\n",
      "Enter number for independent variable: 2\n",
      "\n",
      "Training MSE: 410990.764975\n",
      "Test MSE: 10098210.6224\n",
      "Iterations: 300\n"
     ]
    }
   ],
   "source": [
    "import boost as gb\n",
    "gb.boost(300, 0.001)"
   ]
  },
  {
   "cell_type": "code",
   "execution_count": 3,
   "metadata": {
    "collapsed": false
   },
   "outputs": [
    {
     "name": "stdout",
     "output_type": "stream",
     "text": [
      "0: low \n",
      "1: age \n",
      "2: lwt \n",
      "3: race \n",
      "4: smoke \n",
      "5: ptl \n",
      "6: ht \n",
      "7: ui \n",
      "8: ftv \n",
      "9: bwt\n",
      "Enter number for dependent variable: 9\n",
      "Enter number for independent variable: 2\n",
      "\n",
      "Training MSE: 358556.10819\n",
      "Test MSE: 10097027.5918\n",
      "Iterations: 600\n"
     ]
    }
   ],
   "source": [
    "gb.boost(600, 0.001)"
   ]
  }
 ],
 "metadata": {
  "kernelspec": {
   "display_name": "Python 3",
   "language": "python",
   "name": "python3"
  },
  "language_info": {
   "codemirror_mode": {
    "name": "ipython",
    "version": 3
   },
   "file_extension": ".py",
   "mimetype": "text/x-python",
   "name": "python",
   "nbconvert_exporter": "python",
   "pygments_lexer": "ipython3",
   "version": "3.5.1"
  }
 },
 "nbformat": 4,
 "nbformat_minor": 0
}
